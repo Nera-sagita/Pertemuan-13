{
  "nbformat": 4,
  "nbformat_minor": 0,
  "metadata": {
    "colab": {
      "provenance": []
    },
    "kernelspec": {
      "name": "python3",
      "display_name": "Python 3"
    },
    "language_info": {
      "name": "python"
    }
  },
  "cells": [
    {
      "cell_type": "markdown",
      "source": [
        "# Penggabungan Series/DataFrame\n",
        "\n",
        "Terdapat beberapa metode untuk menggabugkan series/dataframe di Pandas, yaitu :\n",
        "1. Append\n",
        "2. Concat\n",
        "3. Merge\n",
        "4. Join"
      ],
      "metadata": {
        "id": "RTdz70cGlqqP"
      }
    },
    {
      "cell_type": "markdown",
      "source": [
        "#Import Library\n",
        "\n",
        "Import beberapa Library berikut untuk digunakan di sepanjang notebook ini :"
      ],
      "metadata": {
        "id": "imDvxQCjVxoM"
      }
    },
    {
      "cell_type": "code",
      "source": [
        "import pandas as pd"
      ],
      "metadata": {
        "id": "9Jr-SYgcmWrW"
      },
      "execution_count": 4,
      "outputs": []
    },
    {
      "cell_type": "markdown",
      "source": [
        "# Append\n",
        "\n",
        "Method.append() dapat digunakan pada dataframe/series yang ditunjukan untuk menambahkan row-nya saja."
      ],
      "metadata": {
        "id": "dAesPRcfVz-m"
      }
    },
    {
      "cell_type": "code",
      "execution_count": null,
      "metadata": {
        "colab": {
          "base_uri": "https://localhost:8080/"
        },
        "id": "rV1xO4kolkpP",
        "outputId": "31061c90-d1ec-46cf-cc59-f2db3e8a535d"
      },
      "outputs": [
        {
          "output_type": "stream",
          "name": "stdout",
          "text": [
            "Series-append:\n",
            " 0    1\n",
            "1    2\n",
            "2    3\n",
            "3    4\n",
            "4    5\n",
            "5    6\n",
            "0    a\n",
            "1    b\n",
            "2    c\n",
            "3    d\n",
            "4    f\n",
            "dtype: object\n"
          ]
        },
        {
          "output_type": "stream",
          "name": "stderr",
          "text": [
            "<ipython-input-6-7a9ee217af5d>:5: FutureWarning: The series.append method is deprecated and will be removed from pandas in a future version. Use pandas.concat instead.\n",
            "  s1_append_s2 = s1.append(s2)\n"
          ]
        }
      ],
      "source": [
        "# Membuat series of int (s1) dan series of string (s2)\n",
        "s1 = pd.Series([1,2,3,4,5,6])\n",
        "s2 = pd.Series([\"a\",\"b\",\"c\",\"d\",\"f\"])\n",
        "# Membuat metode append\n",
        "s1_append_s2 = s1.append(s2)\n",
        "print(\"Series-append:\\n\", s1_append_s2)"
      ]
    },
    {
      "cell_type": "markdown",
      "source": [
        "Untuk **DataFrame**"
      ],
      "metadata": {
        "id": "lRfE-iZfmyJ-"
      }
    },
    {
      "cell_type": "code",
      "source": [
        "# Buat dataframe df1 dan df2\n",
        "df1 = pd.DataFrame({'a':[1,2],\n",
        "                    'b':[3,4]})\n",
        "print(\"df1:\\n\",df1)\n",
        "df2 = pd.DataFrame({'b':[1,2],\n",
        "                    'a':[3,4]})\n",
        "print(\"df2:\\n\",df2)\n",
        "# Terapkan metode append\n",
        "df1_append_df2 = df1.append(df2)\n",
        "print(\"DataFrame-append:\\n\", df1_append_df2)"
      ],
      "metadata": {
        "colab": {
          "base_uri": "https://localhost:8080/"
        },
        "id": "xk2yXs6MmP3t",
        "outputId": "16356dde-06e9-4352-cbaa-ba494cb6b086"
      },
      "execution_count": null,
      "outputs": [
        {
          "output_type": "stream",
          "name": "stdout",
          "text": [
            "df1:\n",
            "    a  b\n",
            "0  1  3\n",
            "1  2  4\n",
            "df2:\n",
            "    b  a\n",
            "0  1  3\n",
            "1  2  4\n",
            "DataFrame-append:\n",
            "    a  b\n",
            "0  1  3\n",
            "1  2  4\n",
            "0  3  1\n",
            "1  4  2\n"
          ]
        },
        {
          "output_type": "stream",
          "name": "stderr",
          "text": [
            "<ipython-input-11-709cc5c11c82>:9: FutureWarning: The frame.append method is deprecated and will be removed from pandas in a future version. Use pandas.concat instead.\n",
            "  df1_append_df2 = df1.append(df2)\n"
          ]
        }
      ]
    },
    {
      "cell_type": "markdown",
      "source": [
        "#Concat"
      ],
      "metadata": {
        "id": "72Fei6T3sDZ4"
      }
    },
    {
      "cell_type": "markdown",
      "source": [
        "Method.concat() dapat digunakan pada dataframe yang ditunjukan untuk penggabungan baik dalam row-wise(adalam arah) atau column-wise"
      ],
      "metadata": {
        "id": "i6xghofFWGkM"
      }
    },
    {
      "cell_type": "code",
      "source": [
        "# Membuat data frame df1 dan df2\n",
        "# Buat dataframe df1 dan df2\n",
        "df1 = pd.DataFrame({'a':[1,2],\n",
        "                    'b':[3,4]})\n",
        "print(\"df1:\\n\",df1)\n",
        "df2 = pd.DataFrame({'b':[1,2],\n",
        "                    'a':[3,4]})\n",
        "print(\"df2:\\n\",df2)\n",
        "# Menerapkan metode concat row-wise\n",
        "row_wise_concat = pd.concat ([df1,df2])\n",
        "print(\"Row-wise-concat:\\n\", row_wise_concat)"
      ],
      "metadata": {
        "colab": {
          "base_uri": "https://localhost:8080/"
        },
        "id": "wjj2vPEdnZV0",
        "outputId": "882d2799-a3d6-483e-8e88-6cf5682155ad"
      },
      "execution_count": null,
      "outputs": [
        {
          "output_type": "stream",
          "name": "stdout",
          "text": [
            "df1:\n",
            "    a  b\n",
            "0  1  3\n",
            "1  2  4\n",
            "df2:\n",
            "    b  a\n",
            "0  1  3\n",
            "1  2  4\n",
            "Row-wise-concat:\n",
            "    a  b\n",
            "0  1  3\n",
            "1  2  4\n",
            "0  3  1\n",
            "1  4  2\n"
          ]
        }
      ]
    },
    {
      "cell_type": "markdown",
      "source": [
        "Untuk menerapkan concat **column-wise**"
      ],
      "metadata": {
        "id": "EcTUe0gtrpkB"
      }
    },
    {
      "cell_type": "code",
      "source": [
        "# Terapkanm metode concat column-wise\n",
        "col_wise_concat = pd.concat([df1, df2], axis = 1)\n",
        "print(\"column-wise - concat:\\n\", col_wise_concat)"
      ],
      "metadata": {
        "colab": {
          "base_uri": "https://localhost:8080/"
        },
        "id": "cmbCqVxqpgrg",
        "outputId": "ba619925-d461-4f90-fae3-491c0f2a787c"
      },
      "execution_count": null,
      "outputs": [
        {
          "output_type": "stream",
          "name": "stdout",
          "text": [
            "column-wise - concat:\n",
            "    a  b  b  a\n",
            "0  1  3  1  3\n",
            "1  2  4  2  4\n"
          ]
        }
      ]
    },
    {
      "cell_type": "markdown",
      "source": [
        "Dapa juga menambahkan identifier dari dataframe untuk data yang ditambahkan"
      ],
      "metadata": {
        "id": "k8yIKTU2ryUt"
      }
    },
    {
      "cell_type": "code",
      "source": [
        "# Penambahan identifier --> membentuk hasil menggabungkan multiindex\n",
        "multiindex_concat = pd.concat([df1,df2],axis = 0, keys = ['df1','df2'])\n",
        "print(\"Multiindex - concat:\\n\", multiindex_concat)"
      ],
      "metadata": {
        "colab": {
          "base_uri": "https://localhost:8080/"
        },
        "id": "XYr1j-_Qp9eC",
        "outputId": "4d9403c5-3a6b-476b-db49-4c8a217947c8"
      },
      "execution_count": null,
      "outputs": [
        {
          "output_type": "stream",
          "name": "stdout",
          "text": [
            "Multiindex - concat:\n",
            "        a  b\n",
            "df1 0  1  3\n",
            "    1  2  4\n",
            "df2 0  3  1\n",
            "    1  4  2\n"
          ]
        }
      ]
    },
    {
      "cell_type": "markdown",
      "source": [
        "#Merge\n",
        "\n",
        "Method.merge() untuk menggabungkan series/Dataframe yang bentuknya mirip dengan syntx join di SQL, specify left and right tables, join key dan how join(left, right, inner, full, outer)"
      ],
      "metadata": {
        "id": "gQbVpuGwWas_"
      }
    },
    {
      "cell_type": "code",
      "source": [
        "# Membuat dataframe df1 dan df2\n",
        "df1 = pd.DataFrame({\n",
        "    'key' : ['k1', 'k2', 'k3', 'k4', 'k5'],\n",
        "    'val1' : [200, 500, 0, 500, 100],\n",
        "    'val2' : [30, 50, 100, 20, 10]\n",
        "})\n",
        "print(\"df1:\\n\", df1)\n",
        "df2 = pd.DataFrame({\n",
        "    'key' : ['k1', 'k3', 'k5', 'k7', 'k10'],\n",
        "    'val3' : [1, 2, 3, 4, 5],\n",
        "    'val4' : [6, 7, 8, 9, 10]\n",
        "})\n",
        "print(\"df2:\\n\", df2)"
      ],
      "metadata": {
        "id": "NeR8Y5MprmWh",
        "colab": {
          "base_uri": "https://localhost:8080/"
        },
        "outputId": "3c715c5c-2d58-4215-fc96-31ecd112dd05"
      },
      "execution_count": 5,
      "outputs": [
        {
          "output_type": "stream",
          "name": "stdout",
          "text": [
            "df1:\n",
            "   key  val1  val2\n",
            "0  k1   200    30\n",
            "1  k2   500    50\n",
            "2  k3     0   100\n",
            "3  k4   500    20\n",
            "4  k5   100    10\n",
            "df2:\n",
            "    key  val3  val4\n",
            "0   k1     1     6\n",
            "1   k3     2     7\n",
            "2   k5     3     8\n",
            "3   k7     4     9\n",
            "4  k10     5    10\n"
          ]
        }
      ]
    },
    {
      "cell_type": "markdown",
      "source": [
        "pd.merge yang ekivalen dengan SQL **leftr join**"
      ],
      "metadata": {
        "id": "1Gz9yVv8X9QD"
      }
    },
    {
      "cell_type": "code",
      "source": [
        "# Merge yang ekivalen dengan SQL left join\n",
        "merge_df_left = pd.merge(left = df1, right = df2, how = 'left', left_on = 'key', right_on = 'key')\n",
        "print('merge - left:\\n', merge_df_left)"
      ],
      "metadata": {
        "colab": {
          "base_uri": "https://localhost:8080/"
        },
        "id": "Of_zqPvcXwUV",
        "outputId": "fa45f636-dfe6-4b90-bd6b-32e2ddc1f5f8"
      },
      "execution_count": 6,
      "outputs": [
        {
          "output_type": "stream",
          "name": "stdout",
          "text": [
            "merge - left:\n",
            "   key  val1  val2  val3  val4\n",
            "0  k1   200    30   1.0   6.0\n",
            "1  k2   500    50   NaN   NaN\n",
            "2  k3     0   100   2.0   7.0\n",
            "3  k4   500    20   NaN   NaN\n",
            "4  k5   100    10   3.0   8.0\n"
          ]
        }
      ]
    },
    {
      "cell_type": "markdown",
      "source": [
        "pd.merge yang ekivalen dengan SQL right join"
      ],
      "metadata": {
        "id": "ujTWJv7HYh68"
      }
    },
    {
      "cell_type": "code",
      "source": [
        "# Merge yang ekivalen dengan SQL right join\n",
        "merge_df_right = pd.merge(left = df1, right = df2, how = 'right', left_on = 'key', right_on = 'key')\n",
        "print('merge - right:\\n', merge_df_right)"
      ],
      "metadata": {
        "colab": {
          "base_uri": "https://localhost:8080/"
        },
        "id": "JeiPjxvUYf4l",
        "outputId": "86fbcc9a-bc58-4658-db66-da5dae42f765"
      },
      "execution_count": 7,
      "outputs": [
        {
          "output_type": "stream",
          "name": "stdout",
          "text": [
            "merge - right:\n",
            "    key   val1   val2  val3  val4\n",
            "0   k1  200.0   30.0     1     6\n",
            "1   k3    0.0  100.0     2     7\n",
            "2   k5  100.0   10.0     3     8\n",
            "3   k7    NaN    NaN     4     9\n",
            "4  k10    NaN    NaN     5    10\n"
          ]
        }
      ]
    },
    {
      "cell_type": "markdown",
      "source": [
        "pd.merge yang ekivalen dengan SQL **inner join**"
      ],
      "metadata": {
        "id": "ZY5bf_MrY10J"
      }
    },
    {
      "cell_type": "code",
      "source": [
        "# Merge yang ekivalen dengan SQL inner join\n",
        "merge_df_inner = pd.merge(left = df1, right = df2, how = 'inner', left_on = 'key', right_on = 'key')\n",
        "print('merge - innert:\\n', merge_df_inner)"
      ],
      "metadata": {
        "colab": {
          "base_uri": "https://localhost:8080/"
        },
        "id": "fRmG_GtYY0wb",
        "outputId": "5dce8cde-16bf-45e5-cf8e-b03942660a5e"
      },
      "execution_count": 8,
      "outputs": [
        {
          "output_type": "stream",
          "name": "stdout",
          "text": [
            "merge - innert:\n",
            "   key  val1  val2  val3  val4\n",
            "0  k1   200    30     1     6\n",
            "1  k3     0   100     2     7\n",
            "2  k5   100    10     3     8\n"
          ]
        }
      ]
    },
    {
      "cell_type": "markdown",
      "source": [
        "pd.merge yang ekivalen dengan SQL **outer join**"
      ],
      "metadata": {
        "id": "Cw-InPe7ZI75"
      }
    },
    {
      "cell_type": "code",
      "source": [
        "# Merge yang ekivalen dengan SQL outer join\n",
        "merge_df_outer = pd.merge(left = df1, right = df2, how = 'outer', left_on = 'key', right_on = 'key')\n",
        "print('merge - outer:\\n', merge_df_outer)"
      ],
      "metadata": {
        "colab": {
          "base_uri": "https://localhost:8080/"
        },
        "id": "AuqJzMcEZHv6",
        "outputId": "42f953f5-b5f3-421c-fc7f-64dc9dbf88dc"
      },
      "execution_count": 9,
      "outputs": [
        {
          "output_type": "stream",
          "name": "stdout",
          "text": [
            "merge - outer:\n",
            "    key   val1   val2  val3  val4\n",
            "0   k1  200.0   30.0   1.0   6.0\n",
            "1   k2  500.0   50.0   NaN   NaN\n",
            "2   k3    0.0  100.0   2.0   7.0\n",
            "3   k4  500.0   20.0   NaN   NaN\n",
            "4   k5  100.0   10.0   3.0   8.0\n",
            "5   k7    NaN    NaN   4.0   9.0\n",
            "6  k10    NaN    NaN   5.0  10.0\n"
          ]
        }
      ]
    },
    {
      "cell_type": "markdown",
      "source": [
        "Bagaimana jika salah satu dataframe atau keseluruhan dataframe yang akan digabungkan tersebut memiliki multiindex?"
      ],
      "metadata": {
        "id": "tkZLJ7KWZYkT"
      }
    },
    {
      "cell_type": "code",
      "source": [
        "# Membuat dataframe df1 dan df2\n",
        "df1 = pd.DataFrame({\n",
        "    'key' : ['k1', 'k2', 'k3', 'k4', 'k5'],\n",
        "    'val1' : [200, 500, 0, 500, 100],\n",
        "    'val2' : [30, 50, 100, 20, 10]\n",
        "}).set_index(['key', 'val2'])\n",
        "print(\"df1:\\n\", df1)\n",
        "df2 = pd.DataFrame({\n",
        "    'key' : ['k1', 'k3', 'k5', 'k7', 'k10'],\n",
        "    'val3' : [1, 2, 3, 4, 5],\n",
        "    'val4' : [6, 7, 8, 9, 10]\n",
        "}).set_index(['key', 'val3'])\n",
        "print(\"df2:\\n\", df2)"
      ],
      "metadata": {
        "colab": {
          "base_uri": "https://localhost:8080/"
        },
        "id": "zLR-6vJtZWp8",
        "outputId": "4d439bf5-fd70-4bfd-b30f-b700322005d5"
      },
      "execution_count": 10,
      "outputs": [
        {
          "output_type": "stream",
          "name": "stdout",
          "text": [
            "df1:\n",
            "           val1\n",
            "key val2      \n",
            "k1  30     200\n",
            "k2  50     500\n",
            "k3  100      0\n",
            "k4  20     500\n",
            "k5  10     100\n",
            "df2:\n",
            "           val4\n",
            "key val3      \n",
            "k1  1        6\n",
            "k3  2        7\n",
            "k5  3        8\n",
            "k7  4        9\n",
            "k10 5       10\n"
          ]
        }
      ]
    },
    {
      "cell_type": "markdown",
      "source": [
        "Jika digunakan secara langsung seperti yang telah dilakukan pada bagian sebelumnya"
      ],
      "metadata": {
        "id": "p1quf9auZ-q9"
      }
    },
    {
      "cell_type": "code",
      "source": [
        "# Merge dataframe yang memiliki multi index\n",
        "# df_merge = pd.merge(df1,df2)\n",
        "# print('Merging dataframe:\\n', df_merge)"
      ],
      "metadata": {
        "id": "0kw3ZvzsZ23T"
      },
      "execution_count": 11,
      "outputs": []
    },
    {
      "cell_type": "code",
      "source": [
        "# Merge dataframe yang memiliki multi index\n",
        "df_merge = pd.merge(df1.reset_index(), df2.reset_index())\n",
        "print('Merging dataframe:\\n', df_merge)"
      ],
      "metadata": {
        "colab": {
          "base_uri": "https://localhost:8080/"
        },
        "id": "9LXJgRwGaWTN",
        "outputId": "6168c4d5-3799-4cd4-9a6d-d05cc76a19e5"
      },
      "execution_count": 12,
      "outputs": [
        {
          "output_type": "stream",
          "name": "stdout",
          "text": [
            "Merging dataframe:\n",
            "   key  val2  val1  val3  val4\n",
            "0  k1    30   200     1     6\n",
            "1  k3   100     0     2     7\n",
            "2  k5    10   100     3     8\n"
          ]
        }
      ]
    },
    {
      "cell_type": "markdown",
      "source": [
        "#Join\n",
        "\n",
        "Method.**join()** digunakan pada dataframe untuk menggabugkan kedua data dengan set index pada kedua data dengan det index pada tabel tersebut sebagai join key, tanpa index, hal ini tidak akan berhasil."
      ],
      "metadata": {
        "id": "cHKMMr5CaqRC"
      }
    },
    {
      "cell_type": "code",
      "source": [
        "# Buat dataframe df1 dan df2\n",
        "df1 = pd.DataFrame({\n",
        "    'key' : ['k1', 'k2', 'k3', 'k4', 'k5'],\n",
        "    'val1' : [200, 500, 0, 500, 100],\n",
        "    'val2' : [30, 50, 100, 20, 10]\n",
        "})\n",
        "df2 = pd.DataFrame({\n",
        "    'key' : ['k1', 'k3', 'k5', 'k7', 'k10'],\n",
        "    'val3' : [1, 2, 3, 4, 5],\n",
        "    'val4' : [6, 7, 8, 9, 10]\n",
        "})\n",
        "# Penerapan join dengan menggunakan set_index dan keyword how\n",
        "# df1.join(df2) # <-- akan error"
      ],
      "metadata": {
        "id": "E0R_OXd6apLf"
      },
      "execution_count": 14,
      "outputs": []
    },
    {
      "cell_type": "code",
      "source": [
        "print(df1.set_index('key').join(df2.set_index('key')))"
      ],
      "metadata": {
        "colab": {
          "base_uri": "https://localhost:8080/"
        },
        "id": "9dtDgZn6bWm7",
        "outputId": "5b4d8aa8-9692-4d75-ba9a-92c4d37d271f"
      },
      "execution_count": 15,
      "outputs": [
        {
          "output_type": "stream",
          "name": "stdout",
          "text": [
            "     val1  val2  val3  val4\n",
            "key                        \n",
            "k1    200    30   1.0   6.0\n",
            "k2    500    50   NaN   NaN\n",
            "k3      0   100   2.0   7.0\n",
            "k4    500    20   NaN   NaN\n",
            "k5    100    10   3.0   8.0\n"
          ]
        }
      ]
    },
    {
      "cell_type": "markdown",
      "source": [
        "Untuk tipe join yang lain(contoh = inner), harus menspecify keyword how = 'inner' seperti yang dicontohkan berikut ini"
      ],
      "metadata": {
        "id": "KH701dffbq-w"
      }
    },
    {
      "cell_type": "code",
      "source": [
        "join_df = df1.set_index('key').join(df2.set_index('key'), how = 'inner')\n",
        "print(join_df)"
      ],
      "metadata": {
        "colab": {
          "base_uri": "https://localhost:8080/"
        },
        "id": "51cIev4Zbpsp",
        "outputId": "c4a3d964-9c29-4fe0-f26f-5630aa29da83"
      },
      "execution_count": 16,
      "outputs": [
        {
          "output_type": "stream",
          "name": "stdout",
          "text": [
            "     val1  val2  val3  val4\n",
            "key                        \n",
            "k1    200    30     1     6\n",
            "k3      0   100     2     7\n",
            "k5    100    10     3     8\n"
          ]
        }
      ]
    }
  ]
}